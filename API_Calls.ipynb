{
 "cells": [
  {
   "cell_type": "code",
   "execution_count": 2,
   "metadata": {},
   "outputs": [],
   "source": [
    "import pandas as pd\n",
    "import numpy as np\n",
    "import requests\n",
    "import time"
   ]
  },
  {
   "cell_type": "code",
   "execution_count": 3,
   "metadata": {},
   "outputs": [
    {
     "data": {
      "text/html": [
       "<div>\n",
       "<style scoped>\n",
       "    .dataframe tbody tr th:only-of-type {\n",
       "        vertical-align: middle;\n",
       "    }\n",
       "\n",
       "    .dataframe tbody tr th {\n",
       "        vertical-align: top;\n",
       "    }\n",
       "\n",
       "    .dataframe thead th {\n",
       "        text-align: right;\n",
       "    }\n",
       "</style>\n",
       "<table border=\"1\" class=\"dataframe\">\n",
       "  <thead>\n",
       "    <tr style=\"text-align: right;\">\n",
       "      <th></th>\n",
       "      <th>rank</th>\n",
       "      <th>name</th>\n",
       "      <th>usps</th>\n",
       "      <th>pop2021</th>\n",
       "      <th>pop2010</th>\n",
       "      <th>growth</th>\n",
       "      <th>density</th>\n",
       "      <th>aland_sqmi</th>\n",
       "    </tr>\n",
       "  </thead>\n",
       "  <tbody>\n",
       "    <tr>\n",
       "      <th>0</th>\n",
       "      <td>1</td>\n",
       "      <td>New York City</td>\n",
       "      <td>NY</td>\n",
       "      <td>8230290</td>\n",
       "      <td>8190210</td>\n",
       "      <td>0.0049</td>\n",
       "      <td>27400</td>\n",
       "      <td>300.381</td>\n",
       "    </tr>\n",
       "    <tr>\n",
       "      <th>1</th>\n",
       "      <td>2</td>\n",
       "      <td>Los Angeles</td>\n",
       "      <td>CA</td>\n",
       "      <td>3983540</td>\n",
       "      <td>3795510</td>\n",
       "      <td>0.0495</td>\n",
       "      <td>8494</td>\n",
       "      <td>468.956</td>\n",
       "    </tr>\n",
       "    <tr>\n",
       "      <th>2</th>\n",
       "      <td>3</td>\n",
       "      <td>Chicago</td>\n",
       "      <td>IL</td>\n",
       "      <td>2679080</td>\n",
       "      <td>2697480</td>\n",
       "      <td>-0.0068</td>\n",
       "      <td>11783</td>\n",
       "      <td>227.369</td>\n",
       "    </tr>\n",
       "    <tr>\n",
       "      <th>3</th>\n",
       "      <td>4</td>\n",
       "      <td>Houston</td>\n",
       "      <td>TX</td>\n",
       "      <td>2323660</td>\n",
       "      <td>2100280</td>\n",
       "      <td>0.1064</td>\n",
       "      <td>3630</td>\n",
       "      <td>640.194</td>\n",
       "    </tr>\n",
       "    <tr>\n",
       "      <th>4</th>\n",
       "      <td>5</td>\n",
       "      <td>Phoenix</td>\n",
       "      <td>AZ</td>\n",
       "      <td>1733630</td>\n",
       "      <td>1449040</td>\n",
       "      <td>0.1964</td>\n",
       "      <td>3349</td>\n",
       "      <td>517.673</td>\n",
       "    </tr>\n",
       "  </tbody>\n",
       "</table>\n",
       "</div>"
      ],
      "text/plain": [
       "   rank           name usps  pop2021  pop2010  growth  density  aland_sqmi\n",
       "0     1  New York City   NY  8230290  8190210  0.0049    27400     300.381\n",
       "1     2    Los Angeles   CA  3983540  3795510  0.0495     8494     468.956\n",
       "2     3        Chicago   IL  2679080  2697480 -0.0068    11783     227.369\n",
       "3     4        Houston   TX  2323660  2100280  0.1064     3630     640.194\n",
       "4     5        Phoenix   AZ  1733630  1449040  0.1964     3349     517.673"
      ]
     },
     "execution_count": 3,
     "metadata": {},
     "output_type": "execute_result"
    }
   ],
   "source": [
    "cities = pd.read_csv(r'C:\\Users\\nnoar\\OneDrive\\Desktop\\homework\\Project_3_Weather\\cities.csv')\n",
    "cities.head()"
   ]
  },
  {
   "cell_type": "code",
   "execution_count": 4,
   "metadata": {},
   "outputs": [],
   "source": [
    "city_list = []\n",
    "for city in cities['name']:\n",
    "    city_list.append(city)\n",
    "    \n",
    "    "
   ]
  },
  {
   "cell_type": "code",
   "execution_count": 5,
   "metadata": {},
   "outputs": [],
   "source": [
    "url = 'http://api.openweathermap.org/data/2.5/weather?'\n",
    "units = 'metric'\n",
    "query_url = f'{url}appid=7607ee12001f18d5c5c3cdb923ef8f85&units={units}&q='\n",
    "\n",
    "city_name = []\n",
    "lat = []\n",
    "lng = []\n",
    "max_temp = []\n",
    "humidity = []\n",
    "cloudiness = []\n",
    "wind_speed = []\n",
    "country = []\n",
    "date = []\n",
    "\n",
    "\n",
    "for city in city_list:\n",
    "        response = requests.get(query_url + city).json()\n",
    "        city_name.append(city)\n",
    "        lat.append(response['coord']['lat'])\n",
    "        lng.append(response['coord']['lon'])\n",
    "        max_temp.append(response['main']['temp_max'])\n",
    "        humidity.append(response['main']['humidity'])\n",
    "        wind_speed.append(response['wind']['speed'])\n",
    "        country.append(response['sys']['country'])\n",
    "        cloudiness.append(response['clouds']['all'])\n",
    "        date.append(response['dt'])\n"
   ]
  },
  {
   "cell_type": "code",
   "execution_count": 6,
   "metadata": {},
   "outputs": [],
   "source": [
    "weather = {'City':city_name,'Lat':lat,'Lng':lng,'Max Temp':max_temp,'Humidity':humidity,'Cloudiness':cloudiness,'Wind Speed':wind_speed,'Country':country,'Date':date}\n",
    "weather_df = pd.DataFrame({ key:pd.Series(value) for key, value in weather.items() })\n",
    "\n"
   ]
  },
  {
   "cell_type": "code",
   "execution_count": 7,
   "metadata": {},
   "outputs": [],
   "source": [
    "weather_json = weather_df.to_json(orient='index')"
   ]
  },
  {
   "cell_type": "code",
   "execution_count": 8,
   "metadata": {},
   "outputs": [],
   "source": [
    "weather_dict = weather_df.to_dict()"
   ]
  },
  {
   "cell_type": "code",
   "execution_count": 9,
   "metadata": {},
   "outputs": [
    {
     "data": {
      "text/plain": [
       "dict_keys(['City', 'Lat', 'Lng', 'Max Temp', 'Humidity', 'Cloudiness', 'Wind Speed', 'Country', 'Date'])"
      ]
     },
     "execution_count": 9,
     "metadata": {},
     "output_type": "execute_result"
    }
   ],
   "source": [
    "weather_dict.keys()"
   ]
  },
  {
   "cell_type": "code",
   "execution_count": 10,
   "metadata": {},
   "outputs": [],
   "source": [
    "import json\n",
    "with open('weather_json', 'w') as fp:\n",
    "    json.dump(weather_json, fp)"
   ]
  },
  {
   "cell_type": "code",
   "execution_count": 12,
   "metadata": {},
   "outputs": [],
   "source": [
    "weather_df.to_csv('weather_df.csv')"
   ]
  }
 ],
 "metadata": {
  "interpreter": {
   "hash": "5534874fe8412e676a660b9e60c3e31abe6939eee95a7a3ce6f77205e90438eb"
  },
  "kernelspec": {
   "display_name": "Python 3.8.8 64-bit ('base': conda)",
   "language": "python",
   "name": "python3"
  },
  "language_info": {
   "codemirror_mode": {
    "name": "ipython",
    "version": 3
   },
   "file_extension": ".py",
   "mimetype": "text/x-python",
   "name": "python",
   "nbconvert_exporter": "python",
   "pygments_lexer": "ipython3",
   "version": "3.8.8"
  },
  "orig_nbformat": 4
 },
 "nbformat": 4,
 "nbformat_minor": 2
}
